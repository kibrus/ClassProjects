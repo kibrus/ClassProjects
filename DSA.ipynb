{
  "nbformat": 4,
  "nbformat_minor": 0,
  "metadata": {
    "colab": {
      "provenance": [],
      "gpuType": "T4",
      "authorship_tag": "ABX9TyNbgryzze0JsULUf/5jvWAs",
      "include_colab_link": true
    },
    "kernelspec": {
      "name": "python3",
      "display_name": "Python 3"
    },
    "language_info": {
      "name": "python"
    },
    "accelerator": "GPU"
  },
  "cells": [
    {
      "cell_type": "markdown",
      "metadata": {
        "id": "view-in-github",
        "colab_type": "text"
      },
      "source": [
        "<a href=\"https://colab.research.google.com/github/kibrus/ClassProjects/blob/main/DSA.ipynb\" target=\"_parent\"><img src=\"https://colab.research.google.com/assets/colab-badge.svg\" alt=\"Open In Colab\"/></a>"
      ]
    },
    {
      "cell_type": "code",
      "execution_count": 6,
      "metadata": {
        "colab": {
          "base_uri": "https://localhost:8080/"
        },
        "id": "FYJZ9CmXG9Yo",
        "outputId": "426263dc-07fd-4542-fa5f-c9c47705b830"
      },
      "outputs": [
        {
          "output_type": "stream",
          "name": "stdout",
          "text": [
            "How many day's temperature? : 4\n",
            "Enter Day 1 temp: 20\n",
            "Enter Day 2 temp: 21\n",
            "Enter Day 3 temp: 50\n",
            "Enter Day 4 temp: 60\n",
            "\n",
            "Average = 37.75\n",
            "2 day(s) above the average\n"
          ]
        }
      ],
      "source": [
        "#calculate Average Temperature\n",
        "days = int(input(\"How many day's temperature? : \"))\n",
        "total = 0\n",
        "temps = []\n",
        "for i in range(days):\n",
        "  temp = int(input(\"Enter Day \"+str(i+1)+\" temp: \"))\n",
        "  temps.append(temp)\n",
        "  total += temps[i]\n",
        "\n",
        "\n",
        "avg = round(total/days,2)\n",
        "print(\"\\nAverage = \" + str(avg))\n",
        "\n",
        "count = 0\n",
        "for temp in temps:\n",
        "  if avg < temp:\n",
        "    count += 1\n",
        "print(str(count) + \" day(s) above the average\")"
      ]
    },
    {
      "cell_type": "code",
      "source": [
        "#function to find the missing number\n",
        "def missing_number(lists, n):\n",
        "    total = n*(n+1)/2\n",
        "\n",
        "    total_lists = sum(lists)\n",
        "\n",
        "    missing_number = total-total_lists\n",
        "\n",
        "    return missing_number\n",
        "\n",
        "\n",
        "missing_number([1, 2, 3, 4, 6,7,9,8,10], 10)"
      ],
      "metadata": {
        "colab": {
          "base_uri": "https://localhost:8080/"
        },
        "id": "HP3jIV1ZKy2A",
        "outputId": "09459fd7-ac3f-4a1b-b607-fe6b0fd07f44"
      },
      "execution_count": 43,
      "outputs": [
        {
          "output_type": "execute_result",
          "data": {
            "text/plain": [
              "5.0"
            ]
          },
          "metadata": {},
          "execution_count": 43
        }
      ]
    },
    {
      "cell_type": "code",
      "source": [
        "#two sum\n",
        "# time and space O(n)\n",
        "from typing import List\n",
        "\n",
        "class solution:\n",
        "  def twosum(self, nums: List[int], target: int) -> List[int]:\n",
        "    prevMap = {} #val: index\n",
        "\n",
        "    for i, n in enumerate(nums):\n",
        "      diff = target - n\n",
        "      if diff in prevMap:\n",
        "        return[prevMap[diff], i]\n",
        "      prevMap[n] = i\n",
        "    return\n",
        "\n",
        "sol = solution()\n",
        "sol.twosum([2,1,5,3],4)\n"
      ],
      "metadata": {
        "colab": {
          "base_uri": "https://localhost:8080/"
        },
        "id": "9HCqTxlIUR35",
        "outputId": "5555aa28-c48c-43a2-fee0-87734aabffd9"
      },
      "execution_count": 59,
      "outputs": [
        {
          "output_type": "execute_result",
          "data": {
            "text/plain": [
              "[[0, 3], [1, 4]]"
            ]
          },
          "metadata": {},
          "execution_count": 59
        }
      ]
    },
    {
      "cell_type": "code",
      "source": [
        "#two sum\n",
        "# time-O(n) space -> O(n*2)\n",
        "from typing import List\n",
        "\n",
        "class solution:\n",
        "  def twosum(self, nums: List[int], target: int) -> List[int]:\n",
        "    prevMap = {} #val: index\n",
        "    pairs = []\n",
        "\n",
        "    for i, n in enumerate(nums):\n",
        "      diff = target - n\n",
        "      if diff in prevMap:\n",
        "        pairs.append([prevMap[diff], i])\n",
        "      prevMap[n] = i\n",
        "    return pairs\n",
        "\n",
        "sol = solution()\n",
        "sol.twosum([2,1,5,2,3],4)\n"
      ],
      "metadata": {
        "id": "6hTRbZF5kT15"
      },
      "execution_count": null,
      "outputs": []
    },
    {
      "cell_type": "code",
      "source": [
        "#two sum\n",
        "# time-O(n*2) space -> O(1)\n",
        "def findPairs(nums, target):\n",
        "  for i in range(len(nums)):\n",
        "    for j in range(i+1, len(nums)):\n",
        "      if nums[i]+nums[j] == target:\n",
        "        print(i, j)\n",
        "findPairs([2,1,5,2,3],4)"
      ],
      "metadata": {
        "colab": {
          "base_uri": "https://localhost:8080/"
        },
        "id": "vfqA4uVyiE3w",
        "outputId": "b6f09889-f98d-43ec-ed2e-c7641cdef80c"
      },
      "execution_count": 54,
      "outputs": [
        {
          "output_type": "stream",
          "name": "stdout",
          "text": [
            "0 3\n",
            "1 4\n"
          ]
        }
      ]
    },
    {
      "cell_type": "code",
      "source": [
        "\n",
        "def maxProfit(prices):\n",
        "    l, r = 0, 1 #left = buy right=sell\n",
        "    maxProfit = 0\n",
        "\n",
        "    while r < len(prices):\n",
        "        if prices[l] < prices[r]:\n",
        "            profit = prices[r]-prices[l]\n",
        "            maxProfit = max(maxProfit, profit)\n",
        "        else:\n",
        "          l += 1\n",
        "        r += 1\n",
        "\n",
        "    return maxProfit\n",
        "\n",
        "maxProfit([7,1,5,3,6,4])"
      ],
      "metadata": {
        "colab": {
          "base_uri": "https://localhost:8080/"
        },
        "id": "wmPePcFf6ir7",
        "outputId": "36ec72ac-bb5c-4d9d-aaee-420d904b5af8"
      },
      "execution_count": 3,
      "outputs": [
        {
          "output_type": "execute_result",
          "data": {
            "text/plain": [
              "5"
            ]
          },
          "metadata": {},
          "execution_count": 3
        }
      ]
    },
    {
      "cell_type": "code",
      "source": [
        "\n",
        "def containsDuplicate(nums):\n",
        "    hashtable = {}\n",
        "    for i, num in enumerate(nums):\n",
        "      print(hashtable)\n",
        "      if num in hashtable:\n",
        "        print(\"true\")\n",
        "        return True\n",
        "\n",
        "      hashtable[num] = i\n",
        "    return False\n",
        "\n",
        "containsDuplicate([1,2,3,1])\n",
        ""
      ],
      "metadata": {
        "colab": {
          "base_uri": "https://localhost:8080/"
        },
        "id": "gjLlI0H-BSA-",
        "outputId": "3931b9e6-b2e6-498e-cc6c-b6042eef1afb"
      },
      "execution_count": 8,
      "outputs": [
        {
          "output_type": "stream",
          "name": "stdout",
          "text": [
            "{}\n",
            "{1: 0}\n",
            "{1: 0, 2: 1}\n",
            "{1: 0, 2: 1, 3: 2}\n",
            "true\n"
          ]
        },
        {
          "output_type": "execute_result",
          "data": {
            "text/plain": [
              "True"
            ]
          },
          "metadata": {},
          "execution_count": 8
        }
      ]
    },
    {
      "cell_type": "code",
      "source": [
        "def containsNearbyDuplicate(nums, k):\n",
        "    hashtable = {}\n",
        "    for i, num in enumerate(nums):\n",
        "        if num in hashtable:\n",
        "            if abs(hashtable[num]-i) <= k:\n",
        "                print(hashtable)\n",
        "                return True\n",
        "        hashtable[num] = i\n",
        "\n",
        "    return False\n",
        "\n",
        "containsNearbyDuplicate([3,1,0,1,1], 1)"
      ],
      "metadata": {
        "colab": {
          "base_uri": "https://localhost:8080/"
        },
        "id": "dqXVQn1UFMsG",
        "outputId": "3a2b4035-3c35-436e-ba25-7d0051e55143"
      },
      "execution_count": 13,
      "outputs": [
        {
          "output_type": "stream",
          "name": "stdout",
          "text": [
            "{3: 0, 1: 3, 0: 2}\n"
          ]
        },
        {
          "output_type": "execute_result",
          "data": {
            "text/plain": [
              "True"
            ]
          },
          "metadata": {},
          "execution_count": 13
        }
      ]
    },
    {
      "cell_type": "code",
      "source": [
        "class Solution(object):\n",
        "    def productExceptSelf(self, nums):\n",
        "      output = [1, ]\n",
        "      prefix = 1\n",
        "      postfix = 1\n",
        "      for i in range(len(nums)-1):\n",
        "          prefix = prefix * nums[i]\n",
        "          output.append(prefix)\n",
        "      for i in range(len(nums)-1, 0, -1):\n",
        "          print(i)\n",
        "          postfix = postfix * nums[i]\n",
        "          output[i-1] *= postfix\n",
        "      return output\n",
        "\n",
        "sol = Solution()\n",
        "sol.productExceptSelf([1,2,3,4])\n",
        "\n",
        ""
      ],
      "metadata": {
        "colab": {
          "base_uri": "https://localhost:8080/"
        },
        "id": "0TVXBkqyQQYT",
        "outputId": "7b39edb3-05b2-44f0-edab-d5652109c6d8"
      },
      "execution_count": 18,
      "outputs": [
        {
          "output_type": "stream",
          "name": "stdout",
          "text": [
            "[1, 1, 2, 6]\n",
            "3\n",
            "2\n",
            "1\n"
          ]
        },
        {
          "output_type": "execute_result",
          "data": {
            "text/plain": [
              "[24, 12, 8, 6]"
            ]
          },
          "metadata": {},
          "execution_count": 18
        }
      ]
    },
    {
      "cell_type": "code",
      "source": [
        "def reverse_sentence(sentence):\n",
        "  split = sentence.split()\n",
        "  reverse_split = split[::-1]\n",
        "  print(reverse_split)\n",
        "  return \" \".join(reverse_split)\n",
        "\n",
        "sentence = \"tubby little cubby all stuffed with fluff\"\n",
        "reverse_sentence(sentence)\n"
      ],
      "metadata": {
        "colab": {
          "base_uri": "https://localhost:8080/",
          "height": 53
        },
        "id": "Y96RMUlxtKec",
        "outputId": "8c11f172-2868-42dd-c7c0-5fd37932926f"
      },
      "execution_count": 7,
      "outputs": [
        {
          "output_type": "stream",
          "name": "stdout",
          "text": [
            "['fluff', 'with', 'stuffed', 'all', 'cubby', 'little', 'tubby']\n"
          ]
        },
        {
          "output_type": "execute_result",
          "data": {
            "text/plain": [
              "'fluff with stuffed all cubby little tubby'"
            ],
            "application/vnd.google.colaboratory.intrinsic+json": {
              "type": "string"
            }
          },
          "metadata": {},
          "execution_count": 7
        }
      ]
    },
    {
      "cell_type": "code",
      "source": [
        "def goldilocks_approved(nums):\n",
        "    for i in range(len(nums)):\n",
        "      if nums[i]==min(nums) or nums[i]==max(nums):\n",
        "        continue\n",
        "      else:\n",
        "        return nums[i]\n",
        "    return -1\n",
        "# nums = [3, 2, 1, 4]\n",
        "# goldilocks_approved(nums)\n",
        "\n",
        "# nums = [1, 2]\n",
        "# goldilocks_approved(nums)\n",
        "\n",
        "nums = [2, 1, 3]\n",
        "goldilocks_approved(nums)"
      ],
      "metadata": {
        "colab": {
          "base_uri": "https://localhost:8080/"
        },
        "id": "hbENIeYhtWz2",
        "outputId": "7d043084-6ebe-4972-9b80-59998c3b4863"
      },
      "execution_count": 11,
      "outputs": [
        {
          "output_type": "execute_result",
          "data": {
            "text/plain": [
              "2"
            ]
          },
          "metadata": {},
          "execution_count": 11
        }
      ]
    }
  ]
}